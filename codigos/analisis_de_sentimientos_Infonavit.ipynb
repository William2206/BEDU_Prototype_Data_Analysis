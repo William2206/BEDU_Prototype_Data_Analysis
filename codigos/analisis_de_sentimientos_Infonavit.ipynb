{
 "cells": [
  {
   "cell_type": "markdown",
   "metadata": {},
   "source": [
    "## Análisis de Sentimientos de Infonavit\n",
    "\n",
    "##### 1. Fuente: Analizamos la información desde la API de Twitter. *Ver procesamiento_datos.R*\n",
    "    \n",
    "##### 2. Desarrollo:"
   ]
  },
  {
   "cell_type": "markdown",
   "metadata": {},
   "source": [
    "Decidimos analizar la percepción de la población en Twitter respecto a Infonavit para saber si la percepción era negativa o positiva y si influía en la baja colocación de créditos. El análisis de sentimientos se refiere al uso del procesamiento de lenguaje natural para identificar y extraer información subjetiva de nuestros textos, en este caso de Tweets.\n",
    "\n",
    "Utilizamos la librería llamada `TextBlob`. `TextBlob` está construida sobre `nltk` y nos da una interfaz sumamente sencilla para realizar análisis de sentimientos.\n",
    "\n",
    "> Lamentablemente, TextBlob sólo puede realizar análisis de sentimientos en inglés, alemán y francés. Es posible traducir de español a inglés usando TextBlob, aunque los resultados no son enteramente satisfactorios."
   ]
  },
  {
   "cell_type": "code",
   "execution_count": 1,
   "metadata": {},
   "outputs": [],
   "source": [
    "import pandas as pd\n",
    "import nltk\n",
    "import seaborn as sns\n",
    "import matplotlib.pyplot as plt\n",
    "import numpy as np"
   ]
  },
  {
   "cell_type": "code",
   "execution_count": 2,
   "metadata": {},
   "outputs": [
    {
     "data": {
      "text/html": [
       "<div>\n",
       "<style scoped>\n",
       "    .dataframe tbody tr th:only-of-type {\n",
       "        vertical-align: middle;\n",
       "    }\n",
       "\n",
       "    .dataframe tbody tr th {\n",
       "        vertical-align: top;\n",
       "    }\n",
       "\n",
       "    .dataframe thead th {\n",
       "        text-align: right;\n",
       "    }\n",
       "</style>\n",
       "<table border=\"1\" class=\"dataframe\">\n",
       "  <thead>\n",
       "    <tr style=\"text-align: right;\">\n",
       "      <th></th>\n",
       "      <th>texts_Infonavit</th>\n",
       "    </tr>\n",
       "  </thead>\n",
       "  <tbody>\n",
       "    <tr>\n",
       "      <th>0</th>\n",
       "      <td>conference president the director of the infon...</td>\n",
       "    </tr>\n",
       "    <tr>\n",
       "      <th>1</th>\n",
       "      <td>this year infonavit has delivered a thousand c...</td>\n",
       "    </tr>\n",
       "    <tr>\n",
       "      <th>2</th>\n",
       "      <td>this year infonavit has delivered a thousand c...</td>\n",
       "    </tr>\n",
       "    <tr>\n",
       "      <th>3</th>\n",
       "      <td>at the morning conference the secretary meyerf...</td>\n",
       "    </tr>\n",
       "    <tr>\n",
       "      <th>4</th>\n",
       "      <td>We address the housing backwardness product of...</td>\n",
       "    </tr>\n",
       "  </tbody>\n",
       "</table>\n",
       "</div>"
      ],
      "text/plain": [
       "                                     texts_Infonavit\n",
       "0  conference president the director of the infon...\n",
       "1  this year infonavit has delivered a thousand c...\n",
       "2  this year infonavit has delivered a thousand c...\n",
       "3  at the morning conference the secretary meyerf...\n",
       "4  We address the housing backwardness product of..."
      ]
     },
     "execution_count": 2,
     "metadata": {},
     "output_type": "execute_result"
    }
   ],
   "source": [
    "df = pd.read_csv('../../Prototype/datos/tweets_Infonavit_en.csv')\n",
    "\n",
    "df.head()"
   ]
  },
  {
   "cell_type": "code",
   "execution_count": 3,
   "metadata": {},
   "outputs": [
    {
     "data": {
      "text/plain": [
       "0      conference president the director of the infon...\n",
       "1      this year infonavit has delivered a thousand c...\n",
       "2      this year infonavit has delivered a thousand c...\n",
       "3      at the morning conference the secretary meyerf...\n",
       "4      We address the housing backwardness product of...\n",
       "                             ...                        \n",
       "496    Today we present the advances in housing and t...\n",
       "497    at the moment meyerfalcon carlosmartinezv arqa...\n",
       "498    Today we will report on the progress of the ho...\n",
       "499    infonavit carlosmartinezv governedomx if I wer...\n",
       "500    good thursday amlo's morning is now dedicated ...\n",
       "Name: texts_Infonavit, Length: 501, dtype: object"
      ]
     },
     "execution_count": 3,
     "metadata": {},
     "output_type": "execute_result"
    }
   ],
   "source": [
    "df['texts_Infonavit']"
   ]
  },
  {
   "cell_type": "code",
   "execution_count": 4,
   "metadata": {},
   "outputs": [
    {
     "data": {
      "text/html": [
       "<div>\n",
       "<style scoped>\n",
       "    .dataframe tbody tr th:only-of-type {\n",
       "        vertical-align: middle;\n",
       "    }\n",
       "\n",
       "    .dataframe tbody tr th {\n",
       "        vertical-align: top;\n",
       "    }\n",
       "\n",
       "    .dataframe thead th {\n",
       "        text-align: right;\n",
       "    }\n",
       "</style>\n",
       "<table border=\"1\" class=\"dataframe\">\n",
       "  <thead>\n",
       "    <tr style=\"text-align: right;\">\n",
       "      <th></th>\n",
       "    </tr>\n",
       "    <tr>\n",
       "      <th>texts_Infonavit</th>\n",
       "    </tr>\n",
       "  </thead>\n",
       "  <tbody>\n",
       "    <tr>\n",
       "      <th>Adelamicha with the infonavit they should do the same, they are credits that are paid up to times or it ends in p</th>\n",
       "    </tr>\n",
       "    <tr>\n",
       "      <th>Banorte listens to the question is if you have already done the activities recommended by infonavit, today I returned it to you</th>\n",
       "    </tr>\n",
       "    <tr>\n",
       "      <th>Carlos Martinez Velazquez Director of the Infonavit reported that during the institute he granted confer credit</th>\n",
       "    </tr>\n",
       "    <tr>\n",
       "      <th>Carlos Martinez Velazquez Director of the Infonavit reported that during the institute he granted credits</th>\n",
       "    </tr>\n",
       "    <tr>\n",
       "      <th>Carlosmartinezv general director of infonavit speaks when receiving the award hymen the category public sector cob</th>\n",
       "    </tr>\n",
       "    <tr>\n",
       "      <th>...</th>\n",
       "    </tr>\n",
       "    <tr>\n",
       "      <th>vicenteserrano lopezobrador infonavit ehhhh step aside right-holders sorry that now the infonavi</th>\n",
       "    </tr>\n",
       "    <tr>\n",
       "      <th>we attend to the housing backwardness product of neoliberalism with more than thousand actions by sedatumx ma</th>\n",
       "    </tr>\n",
       "    <tr>\n",
       "      <th>xeunoticias infonavit fovissstemx and what is he doing so I did not know so he has been saying things for two years</th>\n",
       "    </tr>\n",
       "    <tr>\n",
       "      <th>xeunoticias infonavit fovissstemx hopefully do something for those who were abandoned by homex whom the municipalities do not help</th>\n",
       "    </tr>\n",
       "    <tr>\n",
       "      <th>you want to build your own house in the pesos that if they count meyerfalcon owner of the sedatumx tells us about dec</th>\n",
       "    </tr>\n",
       "  </tbody>\n",
       "</table>\n",
       "<p>271 rows × 0 columns</p>\n",
       "</div>"
      ],
      "text/plain": [
       "Empty DataFrame\n",
       "Columns: []\n",
       "Index: [Adelamicha with the infonavit they should do the same, they are credits that are paid up to times or it ends in p, Banorte listens to the question is if you have already done the activities recommended by infonavit, today I returned it to you, Carlos Martinez Velazquez Director of the Infonavit reported that during the institute he granted confer credit, Carlos Martinez Velazquez Director of the Infonavit reported that during the institute he granted credits, Carlosmartinezv general director of infonavit speaks when receiving the award hymen the category public sector cob, Carlosmartinezv, CEO Infonavit, speaks upon receiving the hymen award in the public sector category cob, Carlosmartinezv, General Director of Infonavit, speaks upon receiving the award hymen the category public sector cob, Carlosmartinezv, General Director, Infonavit Speaks upon Receiving the Hymen Award in the Public Sector Category, Conference President Lopezobrador thanked the deputies for the approval of the reform that allows, Did you know that the last months of the year especially December is when we spend the most on pocket counseling, we give you r, Due to the health emergency we suspend the attention to the public in our cesi cuautitlan on Friday in November, During the pandemic, more workers were benefited with unemployment insurance and more, During the pandemic, more workers were benefited with unemployment insurance and more workers, Enrique Vainer speaks, CEO of Sadasi Officer highlights the performance of Carlosmartinezv at the head of the, Enrique Vainer speaks, CEO of Sadasi Officer highlights the performance of Carlosmartinezv at the head of the Infonav, Entrepreneur friend knows the new support that infonavit offers to your workersmore information, Follow the live broadcast of the 19th hym award ceremony from the infonavit headquarters, For his part, Carlosmartinezv, Directorate General of Infonavit, reported that the placement of credits is largely due, I am fer inpimx governomx sedatumx fovissstemx infonavit does the cauliflower burn you, I congratulate the infonavit because it has made an important effort to carry out the modification of this law that, I congratulate the infonavit because it has made an important effort to carry out the modification of this law that today, I share the talk we had with carlosmartinezvdirector general of infonavit with lsdirectores general o, I want to thank Secretary Meyerfalcon and President Lopezobrador because they were the ones who promoted, I want to thank Secretary Meyerfalcon and President Lopezobrador because they were the ones who promoted the pol, If you think about remodeling, carry out maintenance works or expand your home in addition to the credits of the winter, In the face of the health and economic crisis due to the covid pandemic, the infonavit granted extensions to a thousand workers who, In the morning in brief, I gave housing very soon, it will not be necessary for the workers to meet, In the morning lopezobrador thanked the legislators for the approval of the reform that allows people to, In the morning lopezobrador thanked the legislators for the approval of the reform that allows people who, In the morning today they will report on the progress of the housing programs of the sedatumx the infonavit and the, In the morning today they will report on the progress of the housing programs of the sedatumx the infonavit and the fovissste, In the morning, López Obrador thanked the legislators for the approval of the reform that allows people to, Infonavit reports from the spring Diagnosis of housing in Mexico the support did not reach those most, Infonavit will be able to place approximately one thousand new credits of one thousand pesos for self-production after, Infonavit will be able to place approximately one thousand new credits of one thousand pesos for self-production at the end of, Infonavit, can you inform me of the status of my claim report to all my neighbors, they have already heard about their affectations and I did not, Join us I send at pm from facebook live to the xix edition of the hym tra award, Like infonavit or fovissstemx, more than a thousand self-production actions have been carried out, that is the global number, Now during the government, it carries out actions of direct support to the people for their housing for u, Now in addition to the credits to buy a house, the infonavit grants other credits credit for the improvement of housing., Now, in addition to the credits to buy a house, the infonavit grants other credit improvement credits, President andres manuel lopezobrador reported on the progress in housing programs as much as he does, President andres manuel lopezobrador reported on the progress in housing programs as well as what the, President conference during the governmentmx performs actions of direct support to people for their housing, President conference today will report on the progress of the sedatumx housing programs the infonavit, President lopezobrador specifies that today he will report on the progress made in housing programs, Regarding the self-production strategy for housing, Meyerfalcon pointed out that the government in coordination with, Sagoavaluos to November delivers infonavit more than a thousand credits, Senator with the use of technology and with due coordination between satmx tuimss and infonavit, Since the start of the new stage of the dst, the director mariomaciasrobl has made a constant call for unity, So much so that the secretary of urban development is doing the infonavit there are many actions of the best, The 19th edition of the hym award follows with the participation of the secretary meyerfal with the head of the infonavit, The cp luis fernando hernandez ozuna fernandoheoz general director of i accompanies us in the citizen voices program, The cp luis fernando hernandez ozuna fernandoheoz joins us in the citizen voices program, general director of i, The government, the fovissstemx and the infonavit launched more than a thousand actions with an investment of, The infonavit reported that in addition to the credits to buy a home, the infonavit grants other credits, The resources managed by infonavit are individualized in the housing subaccount of each worker, therefore, The resources managed by the infonavit are individualized in the housing subaccount of each worker, therefore, They asked what happened to the people who have not been able to pay their credits infonavit with the pandemic the director g, They asked what happened to the people who have not been able to pay their credits infonavit with the pandemic the director general, This morning it was reported that in coordination with the fovissstemx infonavity, a thousand actions of, This year infonavit has delivered a thousand credits for self-construction directly without interruption., Today at the morning conference President Lopezobrador announced the advances in housing programs the Director, Today at the morning conference, President Lopezobrador announced the advances in housing programs on, Today in the morning the president lopezobrador makes an important announcement p workers ask infonavit, Today we present the advances in housing and the strategies that we are promoting to directly support the, Today we will report on the progress of the housing programs of the sedatumx the infonavit and the fovissstemx that, Today's president conference will be dedicated to informing the advancement of sedatumx inf housing programs, Today's president conference will be dedicated to informing the advancement of sedatumx inf housing programs., Today's president conference will be dedicated to informing the progress of sedatumx's housing programs, We address the housing backwardness product of neoliberalism with more than a thousand actions by sedatumx more than, We attend to the housing backwardness product of neoliberalism with more than thousand actions by, We continue to work with operations of infonavity fovissstemx unfortunately they closed banks in, We enthusiastically congratulate Carlosmartinezv, CEO of Infonavit for receiving the men and women award, We enthusiastically congratulate Carlosmartinezv, CEO of Infonavit, for receiving the Men and, We obtained the certification of best places to work lgbt by the hrc foundation, the tra event is still alive, We surpassed the original goal of placing credits at the end of November, we have granted more than a thousand fi, What happened this year in the housing sector and what will happen in it, do not miss this talk with carlosmartinezv info, With a new vision, our sector director mariomaciasrobl has given a turn to the dst always putting the good first, affiliates and steering committee congratulate lic carlosmartinezv, general director of infonavit for having obtained, amlo presents a report on the progress of the housing programs of the sedatumx the infonavit and the, and in mexico arturoherrerag banxico cnbvmx lopezobradorinfonavit, arqlorea syndicateitq ecoonis amqueretaro pamelasiurob brenavellana qrocommunity paoesc jurquizar, as infonavito fovissstemx, more than a thousand self-production actions have been carried out that is the global number at, at the moment meyerfalcon carlosmartinezv arqagustin holders of sedatumx infonavit and fovissstemx par, at the moment meyerfalcon carlosmartinezv arqagustin holders of sedatumx infonavit and fovissstemx participates, at the morning conference the secretary meyerfal with the undersecretary davidrcervantes and the headlines delinfonavit and d, at the morning conference the secretary meyerfal with the undersecretary davidrcervantes and the headlines of the infonavit, at the morning conference the secretary meyerfal with the undersecretary davidrcervantes and the headlines of the infonavit and d, attend our next solutions fair in campeche we will be attending the signing of flexipago agreements and settlement of d, building your house on your land is something you have always had in mind in pocket advice we explain how it works, canadevivm through our president the arqyuri zagorin we congratulate the general director of infonavit for, canalcatorcemx jenarovillamil infonavit look at what basic services or who will forgive them, carlos martinez carlosmartinezv director of infonavit also attended the meeting with the ip for the discussion of, carlos martinez carlosmartinezv director of infonavit also attended the meeting with the ip for the discussion of the ou, carlos martinez velazquez director of infonavit reported that during the institute he granted confer credits, carlosaugusto government infonavit was already necessary but only a government with social vision could make it real, carlosmartinezv infonavit meyerfalcon davidrcervantes ednaelenavigate poor people living in those dovecotes, channel catorcemx jenarovillamil infonavit to carlomartinez I surpassed him infonavit problems are not resolved l, clarify the director general of the infonavit carlosmartinezv and the executive member of the fovissste agustin gustavo rodrigue, ...]\n",
       "\n",
       "[271 rows x 0 columns]"
      ]
     },
     "execution_count": 4,
     "metadata": {},
     "output_type": "execute_result"
    }
   ],
   "source": [
    "grouped_by_title = df.groupby('texts_Infonavit').max()\n",
    "grouped_by_title"
   ]
  },
  {
   "cell_type": "code",
   "execution_count": 5,
   "metadata": {},
   "outputs": [],
   "source": [
    "grouped_by_title = df['texts_Infonavit']\n",
    "grouped_by_title = grouped_by_title.str.lower()\n",
    "grouped_by_title = grouped_by_title.str.strip()\n",
    "grouped_by_title = grouped_by_title.str.replace('[^\\w\\s]', '')\n",
    "grouped_by_title = grouped_by_title.str.replace('\\d', '')\n",
    "grouped_by_title = grouped_by_title.str.replace('\\\\n', ' ')\n",
    "grouped_by_title = grouped_by_title.dropna()"
   ]
  },
  {
   "cell_type": "code",
   "execution_count": 6,
   "metadata": {},
   "outputs": [
    {
     "data": {
      "text/plain": [
       "0      conference president the director of the infon...\n",
       "1      this year infonavit has delivered a thousand c...\n",
       "2      this year infonavit has delivered a thousand c...\n",
       "3      at the morning conference the secretary meyerf...\n",
       "4      we address the housing backwardness product of...\n",
       "                             ...                        \n",
       "496    today we present the advances in housing and t...\n",
       "497    at the moment meyerfalcon carlosmartinezv arqa...\n",
       "498    today we will report on the progress of the ho...\n",
       "499    infonavit carlosmartinezv governedomx if i wer...\n",
       "500    good thursday amlos morning is now dedicated t...\n",
       "Name: texts_Infonavit, Length: 501, dtype: object"
      ]
     },
     "execution_count": 6,
     "metadata": {},
     "output_type": "execute_result"
    }
   ],
   "source": [
    "grouped_by_title"
   ]
  },
  {
   "cell_type": "code",
   "execution_count": null,
   "metadata": {},
   "outputs": [],
   "source": [
    "#grouped_by_title.to_csv(\"grouped_by_title-clean.csv\")"
   ]
  },
  {
   "cell_type": "markdown",
   "metadata": {},
   "source": [
    "Ahora, para poder utilizar `textBlob` hay que correr los siguientes comandos:\n",
    "\n",
    "`pip install textblob`\n",
    "\n",
    "`python3 -m textblob.download_corpora`"
   ]
  },
  {
   "cell_type": "code",
   "execution_count": 7,
   "metadata": {},
   "outputs": [],
   "source": [
    "from textblob import TextBlob"
   ]
  },
  {
   "cell_type": "code",
   "execution_count": 8,
   "metadata": {},
   "outputs": [
    {
     "data": {
      "text/plain": [
       "TextBlob(\"infonavit i receive emails to update my password is yours\")"
      ]
     },
     "execution_count": 8,
     "metadata": {},
     "output_type": "execute_result"
    }
   ],
   "source": [
    "# Crear un objeto TextBlob\n",
    "\n",
    "TextBlob(grouped_by_title.iloc[50])"
   ]
  },
  {
   "cell_type": "code",
   "execution_count": 9,
   "metadata": {},
   "outputs": [
    {
     "data": {
      "text/plain": [
       "'This table is black'"
      ]
     },
     "execution_count": 9,
     "metadata": {},
     "output_type": "execute_result"
    }
   ],
   "source": [
    "analysis = \"This table is black\"\n",
    "analysis"
   ]
  },
  {
   "cell_type": "code",
   "execution_count": null,
   "metadata": {},
   "outputs": [],
   "source": [
    "df_traslate = TextBlob(analysis).translate(to='es')\n",
    "df_traslate"
   ]
  },
  {
   "cell_type": "code",
   "execution_count": 11,
   "metadata": {},
   "outputs": [
    {
     "data": {
      "text/plain": [
       "(501,)"
      ]
     },
     "execution_count": 11,
     "metadata": {},
     "output_type": "execute_result"
    }
   ],
   "source": [
    "grouped_by_title.shape"
   ]
  },
  {
   "cell_type": "markdown",
   "metadata": {},
   "source": [
    "Decidimos solo analizar una muestra de tamaño 500 debido a que se rebazaba el limite de peticiones, es decir, eran demasiadas solicitudes que no soporta la biblioteca TextBlob "
   ]
  },
  {
   "cell_type": "code",
   "execution_count": null,
   "metadata": {},
   "outputs": [],
   "source": [
    "#grouped_by_title = grouped_by_title.iloc[0:499]\n",
    "#grouped_by_title"
   ]
  },
  {
   "cell_type": "code",
   "execution_count": null,
   "metadata": {},
   "outputs": [],
   "source": [
    "#df_traslate = []\n",
    "#for x in grouped_by_title:\n",
    "#    traduccion = TextBlob(x).translate(to='en')\n",
    "#    #print(traduccion)\n",
    "#    df_traslate.append(traduccion)\n",
    "##print(\"fin\")\n",
    "#df_traslate"
   ]
  },
  {
   "cell_type": "code",
   "execution_count": null,
   "metadata": {},
   "outputs": [],
   "source": [
    "analysis = grouped_by_title.iloc[50]\n",
    "analysis"
   ]
  },
  {
   "cell_type": "code",
   "execution_count": null,
   "metadata": {},
   "outputs": [],
   "source": [
    "#df_traslate = TextBlob(analysis).translate(to='en')\n",
    "#df_traslate"
   ]
  },
  {
   "cell_type": "code",
   "execution_count": null,
   "metadata": {},
   "outputs": [],
   "source": [
    "# Obteniendo análisis de sentimientos\n",
    "#df_traslate = \"friends know where I can report infonavit for bothering me for a long time when I have never requested\"\n",
    "#TextBlob(df_traslate.iloc[0]).sentiment\n",
    "#df_traslate.sentiment"
   ]
  },
  {
   "cell_type": "code",
   "execution_count": 13,
   "metadata": {},
   "outputs": [
    {
     "data": {
      "text/plain": [
       "'we address the housing backwardness product of neoliberalism with more than a thousand actions by sedatumx more than'"
      ]
     },
     "execution_count": 13,
     "metadata": {},
     "output_type": "execute_result"
    }
   ],
   "source": [
    "grouped_by_title.iloc[100]"
   ]
  },
  {
   "cell_type": "code",
   "execution_count": 14,
   "metadata": {},
   "outputs": [
    {
     "data": {
      "text/plain": [
       "Sentiment(polarity=0.5, subjectivity=0.5)"
      ]
     },
     "execution_count": 14,
     "metadata": {},
     "output_type": "execute_result"
    }
   ],
   "source": [
    "# Obteniendo análisis de sentimientos\n",
    "\n",
    "TextBlob(grouped_by_title.iloc[100]).sentiment"
   ]
  },
  {
   "cell_type": "markdown",
   "metadata": {},
   "source": [
    "'polarity' va de -1 a 1, -1 siendo extremadamente negativo y 1 siendo extremadamente positivo.\n",
    "\n",
    "'subjectivity' va de 0 a 1, 0 siendo muy objetivo y 1 siendo muy subjetivo."
   ]
  },
  {
   "cell_type": "code",
   "execution_count": 15,
   "metadata": {},
   "outputs": [],
   "source": [
    "# Vamos a crear una columna que nos indique la polaridad de todas nuestras descripciones\n",
    "\n",
    "polarity = grouped_by_title.apply(lambda x: TextBlob(x).sentiment.polarity)\n",
    "polarity.name = 'polarity'"
   ]
  },
  {
   "cell_type": "code",
   "execution_count": 16,
   "metadata": {},
   "outputs": [],
   "source": [
    "df_with_polarity = pd.concat([grouped_by_title, polarity], axis=1)"
   ]
  },
  {
   "cell_type": "code",
   "execution_count": 17,
   "metadata": {},
   "outputs": [
    {
     "data": {
      "text/plain": [
       "0      False\n",
       "1       True\n",
       "2       True\n",
       "3      False\n",
       "4       True\n",
       "       ...  \n",
       "496     True\n",
       "497    False\n",
       "498    False\n",
       "499    False\n",
       "500     True\n",
       "Name: polarity, Length: 501, dtype: bool"
      ]
     },
     "execution_count": 17,
     "metadata": {},
     "output_type": "execute_result"
    }
   ],
   "source": [
    "# Vamos a eliminar las polaridades neutrales\n",
    "\n",
    "df_with_polarity['polarity'] != 0"
   ]
  },
  {
   "cell_type": "code",
   "execution_count": 18,
   "metadata": {},
   "outputs": [],
   "source": [
    "no_neutral = df_with_polarity[df_with_polarity['polarity'] != 0]"
   ]
  },
  {
   "cell_type": "markdown",
   "metadata": {},
   "source": [
    "Como se puede observar en el siguiente gráfico, dado que la mayor parte se concentra cercano al cero no es muy concreto nuestro análisis de sentimientos, sin embargo, podemos observar una mínima tendencia a comentarios positivos"
   ]
  },
  {
   "cell_type": "code",
   "execution_count": 19,
   "metadata": {},
   "outputs": [
    {
     "data": {
      "image/png": "[encoded data removed]",
      "text/plain": [
       "<Figure size 360x360 with 1 Axes>"
      ]
     },
     "metadata": {
      "needs_background": "light"
     },
     "output_type": "display_data"
    }
   ],
   "source": [
    "sns.displot(no_neutral['polarity'], kde=False);"
   ]
  },
  {
   "cell_type": "code",
   "execution_count": 21,
   "metadata": {},
   "outputs": [
    {
     "data": {
      "image/png": "[encoded data removed]",
      "text/plain": [
       "<Figure size 432x288 with 1 Axes>"
      ]
     },
     "metadata": {
      "needs_background": "light"
     },
     "output_type": "display_data"
    }
   ],
   "source": [
    "sns.boxplot(x=no_neutral['polarity']);"
   ]
  },
  {
   "cell_type": "code",
   "execution_count": 22,
   "metadata": {},
   "outputs": [
    {
     "data": {
      "text/html": [
       "<div>\n",
       "<style scoped>\n",
       "    .dataframe tbody tr th:only-of-type {\n",
       "        vertical-align: middle;\n",
       "    }\n",
       "\n",
       "    .dataframe tbody tr th {\n",
       "        vertical-align: top;\n",
       "    }\n",
       "\n",
       "    .dataframe thead th {\n",
       "        text-align: right;\n",
       "    }\n",
       "</style>\n",
       "<table border=\"1\" class=\"dataframe\">\n",
       "  <thead>\n",
       "    <tr style=\"text-align: right;\">\n",
       "      <th></th>\n",
       "      <th>texts_Infonavit</th>\n",
       "      <th>polarity</th>\n",
       "    </tr>\n",
       "  </thead>\n",
       "  <tbody>\n",
       "    <tr>\n",
       "      <th>1</th>\n",
       "      <td>this year infonavit has delivered a thousand c...</td>\n",
       "      <td>0.100</td>\n",
       "    </tr>\n",
       "    <tr>\n",
       "      <th>2</th>\n",
       "      <td>this year infonavit has delivered a thousand c...</td>\n",
       "      <td>0.100</td>\n",
       "    </tr>\n",
       "    <tr>\n",
       "      <th>4</th>\n",
       "      <td>we address the housing backwardness product of...</td>\n",
       "      <td>0.500</td>\n",
       "    </tr>\n",
       "    <tr>\n",
       "      <th>5</th>\n",
       "      <td>this year infonavit has delivered a thousand c...</td>\n",
       "      <td>0.100</td>\n",
       "    </tr>\n",
       "    <tr>\n",
       "      <th>6</th>\n",
       "      <td>this year infonavit has delivered a thousand c...</td>\n",
       "      <td>0.100</td>\n",
       "    </tr>\n",
       "    <tr>\n",
       "      <th>...</th>\n",
       "      <td>...</td>\n",
       "      <td>...</td>\n",
       "    </tr>\n",
       "    <tr>\n",
       "      <th>492</th>\n",
       "      <td>patmercadoc senator with the use of technology...</td>\n",
       "      <td>-0.125</td>\n",
       "    </tr>\n",
       "    <tr>\n",
       "      <th>493</th>\n",
       "      <td>today we present the advances in housing and t...</td>\n",
       "      <td>0.050</td>\n",
       "    </tr>\n",
       "    <tr>\n",
       "      <th>494</th>\n",
       "      <td>president conference during government perform...</td>\n",
       "      <td>0.100</td>\n",
       "    </tr>\n",
       "    <tr>\n",
       "      <th>496</th>\n",
       "      <td>today we present the advances in housing and t...</td>\n",
       "      <td>0.050</td>\n",
       "    </tr>\n",
       "    <tr>\n",
       "      <th>500</th>\n",
       "      <td>good thursday amlos morning is now dedicated t...</td>\n",
       "      <td>0.700</td>\n",
       "    </tr>\n",
       "  </tbody>\n",
       "</table>\n",
       "<p>288 rows × 2 columns</p>\n",
       "</div>"
      ],
      "text/plain": [
       "                                       texts_Infonavit  polarity\n",
       "1    this year infonavit has delivered a thousand c...     0.100\n",
       "2    this year infonavit has delivered a thousand c...     0.100\n",
       "4    we address the housing backwardness product of...     0.500\n",
       "5    this year infonavit has delivered a thousand c...     0.100\n",
       "6    this year infonavit has delivered a thousand c...     0.100\n",
       "..                                                 ...       ...\n",
       "492  patmercadoc senator with the use of technology...    -0.125\n",
       "493  today we present the advances in housing and t...     0.050\n",
       "494  president conference during government perform...     0.100\n",
       "496  today we present the advances in housing and t...     0.050\n",
       "500  good thursday amlos morning is now dedicated t...     0.700\n",
       "\n",
       "[288 rows x 2 columns]"
      ]
     },
     "execution_count": 22,
     "metadata": {},
     "output_type": "execute_result"
    }
   ],
   "source": [
    "no_neutral"
   ]
  },
  {
   "cell_type": "code",
   "execution_count": 23,
   "metadata": {},
   "outputs": [
    {
     "data": {
      "text/plain": [
       "28     meyerfalcon sedatumx conavimx fovissstemx info...\n",
       "157    incredibly another abandoned project infonavit...\n",
       "264    imagentvmex infonavit carlosmartinezv with a g...\n",
       "Name: texts_Infonavit, dtype: object"
      ]
     },
     "execution_count": 23,
     "metadata": {},
     "output_type": "execute_result"
    }
   ],
   "source": [
    "no_neutral[no_neutral['polarity'] > 0.75]['texts_Infonavit']"
   ]
  },
  {
   "cell_type": "code",
   "execution_count": 24,
   "metadata": {},
   "outputs": [
    {
     "data": {
      "text/plain": [
       "38     vicenteserrano lopezobrador infonavit ehhhh st...\n",
       "307    carlosmartinezv infonavit meyerfalcon davidrce...\n",
       "313    we continue to work with operations of infonav...\n",
       "Name: texts_Infonavit, dtype: object"
      ]
     },
     "execution_count": 24,
     "metadata": {},
     "output_type": "execute_result"
    }
   ],
   "source": [
    "no_neutral[no_neutral['polarity'] < -0.25]['texts_Infonavit']"
   ]
  },
  {
   "cell_type": "code",
   "execution_count": 25,
   "metadata": {},
   "outputs": [
    {
     "data": {
      "text/plain": [
       "0      conference president the director of the infon...\n",
       "1      this year infonavit has delivered a thousand c...\n",
       "2      this year infonavit has delivered a thousand c...\n",
       "3      at the morning conference the secretary meyerf...\n",
       "4      we address the housing backwardness product of...\n",
       "                             ...                        \n",
       "496    today we present the advances in housing and t...\n",
       "497    at the moment meyerfalcon carlosmartinezv arqa...\n",
       "498    today we will report on the progress of the ho...\n",
       "499    infonavit carlosmartinezv governedomx if i wer...\n",
       "500    good thursday amlos morning is now dedicated t...\n",
       "Name: texts_Infonavit, Length: 501, dtype: object"
      ]
     },
     "execution_count": 25,
     "metadata": {},
     "output_type": "execute_result"
    }
   ],
   "source": [
    "grouped_by_title"
   ]
  },
  {
   "cell_type": "code",
   "execution_count": 26,
   "metadata": {},
   "outputs": [],
   "source": [
    "grouped_by_title.to_csv(\"tweets_Infonavit-clean.csv\")"
   ]
  },
  {
   "cell_type": "code",
   "execution_count": null,
   "metadata": {},
   "outputs": [],
   "source": []
  }
 ],
 "metadata": {
  "kernelspec": {
   "display_name": "Python 3",
   "language": "python",
   "name": "python3"
  },
  "language_info": {
   "codemirror_mode": {
    "name": "ipython",
    "version": 3
   },
   "file_extension": ".py",
   "mimetype": "text/x-python",
   "name": "python",
   "nbconvert_exporter": "python",
   "pygments_lexer": "ipython3",
   "version": "3.8.3"
  }
 },
 "nbformat": 4,
 "nbformat_minor": 4
}
